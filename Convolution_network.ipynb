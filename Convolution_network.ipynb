{
  "nbformat": 4,
  "nbformat_minor": 0,
  "metadata": {
    "colab": {
      "name": "HW5.ipynb",
      "provenance": [],
      "authorship_tag": "ABX9TyP5h9fVYTcu+EbbLBLOq+Gw",
      "include_colab_link": true
    },
    "kernelspec": {
      "name": "python3",
      "display_name": "Python 3"
    },
    "language_info": {
      "name": "python"
    }
  },
  "cells": [
    {
      "cell_type": "markdown",
      "metadata": {
        "id": "view-in-github",
        "colab_type": "text"
      },
      "source": [
        "<a href=\"https://colab.research.google.com/github/thangchu77/Deep-Learning-project/blob/main/Convolution_network.ipynb\" target=\"_parent\"><img src=\"https://colab.research.google.com/assets/colab-badge.svg\" alt=\"Open In Colab\"/></a>"
      ]
    },
    {
      "cell_type": "markdown",
      "metadata": {
        "id": "a6iqgi0fCvum"
      },
      "source": [
        "# Problem set 1: Dataset has 10 points created from the function $y = x^2$ + noise. Using sklearn.fit with function 9th degree. Provide another 100 points and use again the function 9th degree"
      ]
    },
    {
      "cell_type": "markdown",
      "metadata": {
        "id": "1bNAY7SaDrZH"
      },
      "source": [
        "# Problem set 2: Implement convolution function with input X, W, stride, padding, output Y. Implement Sobel function"
      ]
    },
    {
      "cell_type": "markdown",
      "metadata": {
        "id": "W9F8v5hND_AY"
      },
      "source": [
        "# Problem set 3: Change the learning rate, optimizer, kernel size, number of kernels and compare the result."
      ]
    },
    {
      "cell_type": "markdown",
      "metadata": {
        "id": "tpbQEERDENvy"
      },
      "source": [
        "# Problem set 4: Build VGG16 for cifar10\n"
      ]
    },
    {
      "cell_type": "markdown",
      "metadata": {
        "id": "priFfGv4Eb82"
      },
      "source": [
        "# Problem set 5: When we build the model, why the height and width reduce, but the depth increases"
      ]
    }
  ]
}